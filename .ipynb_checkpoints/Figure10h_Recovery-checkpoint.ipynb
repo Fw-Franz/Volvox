{
 "cells": [
  {
   "cell_type": "code",
   "execution_count": null,
   "id": "4133719f",
   "metadata": {},
   "outputs": [],
   "source": [
    "import pandas as pd\n",
    "import seaborn as sns\n",
    "import matplotlib.pyplot as plt\n",
    "\n",
    "maindir=r'C:\\Users\\Franz\\OneDrive\\_PhD\\My_Papers\\Volvox_Uncertainty_Minimization\\Data\\Figure10_Electroshocked_Phototaxis\\Combined_Analysis_Results\\\\'\n",
    "experiment_name='N_R_F_C_'\n",
    "experiment_after_name='1hr_after_schock_'\n",
    "\n",
    "\n",
    "df_result = pd.read_csv(maindir + 'N_R_F_C_Combined_Results_Average_Volvox_numbers.csv')\n",
    "\n",
    "print(df_result.columns)"
   ]
  },
  {
   "cell_type": "code",
   "execution_count": null,
   "id": "88bf5cf1",
   "metadata": {
    "scrolled": false
   },
   "outputs": [],
   "source": [
    "import matplotlib.font_manager as font_manager\n",
    "\n",
    "#waaaaay too many Volvox in trial 2, confounds results as all are approx equal\n",
    "# df_result=df_result[df_result['Trial']!=2]\n",
    "\n",
    "figurefont = {'fontname':'Candara',\n",
    "        'size'   : 18}\n",
    "\n",
    "font = font_manager.FontProperties(family='Candara',math_fontfamily='custom',size=12)\n",
    "\n",
    "mypalette = {\"Normal\": \"saddlebrown\",\"Continuous\": \"blue\",\"Fixed\": \"green\",\"Random\": \"m\"}\n",
    "\n",
    "\n",
    "fig=plt.figure()\n",
    "ax=sns.boxplot(data=df_result,x='Schock_Timing' , y='Ratio Stopped to Total Volvox', hue='Electric Current Condition', palette=mypalette)\n",
    "\n",
    "# ax.set_xticks(positions_new)\n",
    "\n",
    "plt.title('Percent Volvox with Inhibited Phototaxis', **figurefont)\n",
    "\n",
    "plt.legend(prop=font)\n",
    "\n",
    "plt.ylabel('% Inhibited Volvox', **figurefont)\n",
    "plt.xlabel('Electric Shock Pattern', **figurefont)\n",
    "\n",
    "\n",
    "fig.savefig(maindir+'Percent_Inhibited_Phototaxis_combined_boxplot.png')"
   ]
  },
  {
   "cell_type": "markdown",
   "id": "8b2f4357",
   "metadata": {},
   "source": [
    "# Wilcoxon during only"
   ]
  },
  {
   "cell_type": "code",
   "execution_count": null,
   "id": "fdbe75bb",
   "metadata": {},
   "outputs": [],
   "source": [
    "import numpy as np\n",
    "from scipy import stats\n",
    "from scipy.stats import ttest_rel\n",
    "\n",
    "df_result_during=df_result[(df_result['Schock_Timing']=='During')]\n",
    "\n",
    "cat_fixed = df_result_during[(df_result_during['Electric Current Condition']=='Fixed')]\n",
    "cat_continuous= df_result_during[(df_result_during['Electric Current Condition']=='Continuous')]\n",
    "cat_random = df_result_during[(df_result_during['Electric Current Condition']=='Random')]\n",
    "cat_normal = df_result_during[(df_result_during['Electric Current Condition']=='Normal')]\n",
    "\n",
    "print('R vs F: ', stats.ttest_rel(cat_random['Ratio Moving to Total Volvox'], cat_fixed['Ratio Moving to Total Volvox']))\n",
    "print('R vs C: ', stats.ttest_rel(cat_random['Ratio Moving to Total Volvox'], cat_continuous['Ratio Moving to Total Volvox']))\n",
    "print('R vs N: ', stats.ttest_rel(cat_random['Ratio Moving to Total Volvox'], cat_normal['Ratio Moving to Total Volvox']))\n",
    "\n"
   ]
  },
  {
   "cell_type": "markdown",
   "id": "a5b45522",
   "metadata": {},
   "source": [
    "# Anova"
   ]
  },
  {
   "cell_type": "code",
   "execution_count": null,
   "id": "4db03953",
   "metadata": {
    "scrolled": true
   },
   "outputs": [],
   "source": [
    "import statsmodels.api as sm\n",
    "from statsmodels.formula.api import ols\n",
    "\n",
    "\n",
    "df_result_renamed=df_result.copy()\n",
    "\n",
    "df_result_renamed=df_result_renamed[df_result_renamed['Trial']!=4]\n",
    "\n",
    "\n",
    "df_result_renamed.rename(columns = {'Electric Current Condition':'Electric_Current_Condition'}, inplace = True)\n",
    "df_result_renamed.rename(columns = {'Ratio Stopped to Total Volvox':'Ratio_Stopped_to_Total_Volvox'}, inplace = True)\n",
    "\n",
    "df_result_renamed=df_result_renamed[df_result_renamed['Electric_Current_Condition']!='Continuous']\n",
    "df_result_renamed=df_result_renamed[df_result_renamed['Electric_Current_Condition']!='Normal']\n",
    "\n",
    "print(df_result_renamed.columns)\n",
    "\n",
    "model = ols('Ratio_Stopped_to_Total_Volvox ~ C(Schock_Timing) + C(Electric_Current_Condition) + C(Schock_Timing):C(Electric_Current_Condition)', data=df_result_renamed).fit()\n",
    "sm.stats.anova_lm(model, typ=2)\n",
    "\n"
   ]
  },
  {
   "cell_type": "code",
   "execution_count": null,
   "id": "149ff6ed",
   "metadata": {},
   "outputs": [],
   "source": []
  },
  {
   "cell_type": "code",
   "execution_count": null,
   "id": "32e92714",
   "metadata": {},
   "outputs": [],
   "source": []
  }
 ],
 "metadata": {
  "kernelspec": {
   "display_name": "Python 3 (ipykernel)",
   "language": "python",
   "name": "python3"
  },
  "language_info": {
   "codemirror_mode": {
    "name": "ipython",
    "version": 3
   },
   "file_extension": ".py",
   "mimetype": "text/x-python",
   "name": "python",
   "nbconvert_exporter": "python",
   "pygments_lexer": "ipython3",
   "version": "3.11.7"
  },
  "varInspector": {
   "cols": {
    "lenName": 16,
    "lenType": 16,
    "lenVar": 40
   },
   "kernels_config": {
    "python": {
     "delete_cmd_postfix": "",
     "delete_cmd_prefix": "del ",
     "library": "var_list.py",
     "varRefreshCmd": "print(var_dic_list())"
    },
    "r": {
     "delete_cmd_postfix": ") ",
     "delete_cmd_prefix": "rm(",
     "library": "var_list.r",
     "varRefreshCmd": "cat(var_dic_list()) "
    }
   },
   "types_to_exclude": [
    "module",
    "function",
    "builtin_function_or_method",
    "instance",
    "_Feature"
   ],
   "window_display": true
  }
 },
 "nbformat": 4,
 "nbformat_minor": 5
}
